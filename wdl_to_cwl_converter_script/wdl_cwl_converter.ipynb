{
 "cells": [
  {
   "cell_type": "code",
   "execution_count": null,
   "metadata": {},
   "outputs": [],
   "source": [
    "# Going to use miniwdl and argparse to parse WDL workflows\n",
    "pip install miniwdl argparse"
   ]
  },
  {
   "cell_type": "code",
   "execution_count": null,
   "metadata": {},
   "outputs": [],
   "source": [
    "# patches asyncio to allow nested use of asyncio.run and loop.run_until_complete\n",
    "pip install nest_asyncio"
   ]
  },
  {
   "cell_type": "code",
   "execution_count": 1,
   "metadata": {},
   "outputs": [],
   "source": [
    "import argparse\n",
    "import json\n",
    "import WDL\n",
    "import nest_asyncio\n",
    "nest_asyncio.apply()"
   ]
  },
  {
   "cell_type": "code",
   "execution_count": 2,
   "metadata": {},
   "outputs": [],
   "source": [
    "# The top level function to load a WDL file with miniwdl and extract tasks and workflow info. \n",
    "def parse_wdl(wdl_file):\n",
    "    # Load the WDL file using miniwdl\n",
    "    doc = WDL.load(wdl_file)\n",
    "    \n",
    "    tasks = []\n",
    "    for task in doc.tasks:\n",
    "        tasks.append(convert_task_to_cwl(task))\n",
    "    \n",
    "    workflow = None\n",
    "    if hasattr(doc, 'workflow'):\n",
    "        workflow = convert_workflow_to_cwl(doc.workflow)\n",
    "    \n",
    "    return tasks, workflow"
   ]
  },
  {
   "cell_type": "code",
   "execution_count": 3,
   "metadata": {},
   "outputs": [],
   "source": [
    "# Converts tasks in workflow from WDL to CWL by looping through WDL inputs and outputs and adding the to CWL. cwl_tool initiates a dictionary for CWL CommandLineTool.\n",
    "def convert_task_to_cwl(task):\n",
    "    cwl_tool = {\n",
    "        \"cwlVersion\": \"v1.2\",\n",
    "        \"class\": \"CommandLineTool\",\n",
    "        \"baseCommand\": task.command.parts[0] if task.command else None,\n",
    "        \"inputs\": {},\n",
    "        \"outputs\": {},\n",
    "        \"requirements\": {\n",
    "            \"DockerRequirement\": {\n",
    "                \"dockerPull\": task.runtime[\"docker\"] if hasattr(task, \"runtime\") and \"docker\" in task.runtime else None\n",
    "            }\n",
    "        }\n",
    "    }\n",
    "    \n",
    "    # Check if inputs exist before iterating\n",
    "    if task.inputs:\n",
    "        for inp in task.inputs:\n",
    "            cwl_tool[\"inputs\"][inp.name] = {\"type\": \"File\" if \"File\" in str(inp.type) else \"string\"}  \n",
    "\n",
    "    # Check if outputs exist before iterating\n",
    "    if task.outputs:\n",
    "        for outp in task.outputs:\n",
    "            cwl_tool[\"outputs\"][outp.name] = {\"type\": \"File\"}  # Assuming output is a file\n",
    "    \n",
    "    return cwl_tool\n"
   ]
  },
  {
   "cell_type": "code",
   "execution_count": 4,
   "metadata": {},
   "outputs": [
    {
     "ename": "IndentationError",
     "evalue": "expected an indented block (1867188236.py, line 22)",
     "output_type": "error",
     "traceback": [
      "\u001b[0;36m  Cell \u001b[0;32mIn[4], line 22\u001b[0;36m\u001b[0m\n\u001b[0;31m    for element in workflow.body:\u001b[0m\n\u001b[0m    ^\u001b[0m\n\u001b[0;31mIndentationError\u001b[0m\u001b[0;31m:\u001b[0m expected an indented block\n"
     ]
    }
   ],
   "source": [
    "#WDL to CWL workflow conversion\n",
    "def convert_workflow_to_cwl(workflow):\n",
    "    cwl_workflow = {\n",
    "        \"cwlVersion\": \"v1.2\",\n",
    "        \"class\": \"Workflow\",\n",
    "        \"inputs\": {},\n",
    "        \"outputs\": {},\n",
    "        \"steps\": {}\n",
    "    }\n",
    "\n",
    "    # Ensure inputs exist before iterating\n",
    "    if workflow.inputs:\n",
    "        for inp in workflow.inputs:\n",
    "            cwl_workflow[\"inputs\"][inp.name] = {\"type\": \"File\" if \"File\" in str(inp.type) else \"string\"}\n",
    "\n",
    "    # Ensure outputs exist before iterating\n",
    "    if workflow.outputs:\n",
    "        for outp in workflow.outputs:\n",
    "            cwl_workflow[\"outputs\"][outp.name] = {\"type\": \"File\"}\n",
    "\n",
    "    # Ensure steps are processed properly\n",
    "    if workflow.body:\n",
    "    for element in workflow.body:\n",
    "        if isinstance(element, WDL.Tree.Call):\n",
    "            cwl_workflow[\"steps\"][element.name] = {\n",
    "                \"run\": f\"{element.callee.name}.cwl\",\n",
    "                \"in\": {},\n",
    "                \"out\": list(element.outputs.keys()) if hasattr(element, \"outputs\") else []\n",
    "            }\n",
    "            \n",
    "    return cwl_workflow\n"
   ]
  },
  {
   "cell_type": "code",
   "execution_count": 21,
   "metadata": {},
   "outputs": [],
   "source": [
    "#Writes CWL dictionary in JSON format\n",
    "def write_cwl(output_file, content):\n",
    "    with open(output_file, \"w\") as f:\n",
    "        json.dump(content, f, indent=4)\n",
    "\n"
   ]
  },
  {
   "cell_type": "code",
   "execution_count": 22,
   "metadata": {},
   "outputs": [],
   "source": [
    "# argparse parses Command-line argumentsand saves workflow if present\n",
    "def main():\n",
    "    parser = argparse.ArgumentParser(description=\"Convert WDL to CWL\")\n",
    "    parser.add_argument(\"wdl_file\", help=\"Path to the WDL file\")\n",
    "    parser.add_argument(\"output_file\", help=\"Path to output CWL file\")\n",
    "    args = parser.parse_args()\n",
    "    \n",
    "    tasks, workflow = parse_wdl(args.wdl_file)\n",
    "    \n",
    "    if workflow:\n",
    "        write_cwl(args.output_file, workflow)\n",
    "    else:\n",
    "        for i, task in enumerate(tasks):\n",
    "            write_cwl(args.output_file.replace(\".cwl\", f\"_task{i}.cwl\"), task)\n",
    "\n"
   ]
  },
  {
   "cell_type": "code",
   "execution_count": 23,
   "metadata": {},
   "outputs": [],
   "source": [
    "# Defined path to an example WDL workflow.\n",
    "wdl_path = \"path/to/example\""
   ]
  },
  {
   "cell_type": "code",
   "execution_count": 25,
   "metadata": {},
   "outputs": [
    {
     "ename": "AttributeError",
     "evalue": "'Workflow' object has no attribute 'calls'",
     "output_type": "error",
     "traceback": [
      "\u001b[0;31m---------------------------------------------------------------------------\u001b[0m",
      "\u001b[0;31mAttributeError\u001b[0m                            Traceback (most recent call last)",
      "Cell \u001b[0;32mIn[25], line 1\u001b[0m\n\u001b[0;32m----> 1\u001b[0m tasks, workflow \u001b[38;5;241m=\u001b[39m \u001b[43mparse_wdl\u001b[49m\u001b[43m(\u001b[49m\u001b[43mwdl_path\u001b[49m\u001b[43m)\u001b[49m\n\u001b[1;32m      3\u001b[0m \u001b[38;5;28;01mif\u001b[39;00m workflow:\n\u001b[1;32m      4\u001b[0m     \u001b[38;5;28mprint\u001b[39m(\u001b[38;5;124m\"\u001b[39m\u001b[38;5;124mConverted Workflow:\u001b[39m\u001b[38;5;124m\"\u001b[39m)\n",
      "Cell \u001b[0;32mIn[18], line 11\u001b[0m, in \u001b[0;36mparse_wdl\u001b[0;34m(wdl_file)\u001b[0m\n\u001b[1;32m      9\u001b[0m workflow \u001b[38;5;241m=\u001b[39m \u001b[38;5;28;01mNone\u001b[39;00m\n\u001b[1;32m     10\u001b[0m \u001b[38;5;28;01mif\u001b[39;00m \u001b[38;5;28mhasattr\u001b[39m(doc, \u001b[38;5;124m'\u001b[39m\u001b[38;5;124mworkflow\u001b[39m\u001b[38;5;124m'\u001b[39m):\n\u001b[0;32m---> 11\u001b[0m     workflow \u001b[38;5;241m=\u001b[39m \u001b[43mconvert_workflow_to_cwl\u001b[49m\u001b[43m(\u001b[49m\u001b[43mdoc\u001b[49m\u001b[38;5;241;43m.\u001b[39;49m\u001b[43mworkflow\u001b[49m\u001b[43m)\u001b[49m\n\u001b[1;32m     13\u001b[0m \u001b[38;5;28;01mreturn\u001b[39;00m tasks, workflow\n",
      "Cell \u001b[0;32mIn[20], line 21\u001b[0m, in \u001b[0;36mconvert_workflow_to_cwl\u001b[0;34m(workflow)\u001b[0m\n\u001b[1;32m     18\u001b[0m         cwl_workflow[\u001b[38;5;124m\"\u001b[39m\u001b[38;5;124moutputs\u001b[39m\u001b[38;5;124m\"\u001b[39m][outp\u001b[38;5;241m.\u001b[39mname] \u001b[38;5;241m=\u001b[39m {\u001b[38;5;124m\"\u001b[39m\u001b[38;5;124mtype\u001b[39m\u001b[38;5;124m\"\u001b[39m: \u001b[38;5;124m\"\u001b[39m\u001b[38;5;124mFile\u001b[39m\u001b[38;5;124m\"\u001b[39m}\n\u001b[1;32m     20\u001b[0m \u001b[38;5;66;03m# Ensure steps are processed properly\u001b[39;00m\n\u001b[0;32m---> 21\u001b[0m \u001b[38;5;28;01mif\u001b[39;00m \u001b[43mworkflow\u001b[49m\u001b[38;5;241;43m.\u001b[39;49m\u001b[43mcalls\u001b[49m:\n\u001b[1;32m     22\u001b[0m     \u001b[38;5;28;01mfor\u001b[39;00m call \u001b[38;5;129;01min\u001b[39;00m workflow\u001b[38;5;241m.\u001b[39mcalls:\n\u001b[1;32m     23\u001b[0m         cwl_workflow[\u001b[38;5;124m\"\u001b[39m\u001b[38;5;124msteps\u001b[39m\u001b[38;5;124m\"\u001b[39m][call\u001b[38;5;241m.\u001b[39mname] \u001b[38;5;241m=\u001b[39m {\n\u001b[1;32m     24\u001b[0m             \u001b[38;5;124m\"\u001b[39m\u001b[38;5;124mrun\u001b[39m\u001b[38;5;124m\"\u001b[39m: \u001b[38;5;124mf\u001b[39m\u001b[38;5;124m\"\u001b[39m\u001b[38;5;132;01m{\u001b[39;00mcall\u001b[38;5;241m.\u001b[39mcallee\u001b[38;5;241m.\u001b[39mname\u001b[38;5;132;01m}\u001b[39;00m\u001b[38;5;124m.cwl\u001b[39m\u001b[38;5;124m\"\u001b[39m,\n\u001b[1;32m     25\u001b[0m             \u001b[38;5;124m\"\u001b[39m\u001b[38;5;124min\u001b[39m\u001b[38;5;124m\"\u001b[39m: {},\n\u001b[1;32m     26\u001b[0m             \u001b[38;5;124m\"\u001b[39m\u001b[38;5;124mout\u001b[39m\u001b[38;5;124m\"\u001b[39m: \u001b[38;5;28mlist\u001b[39m(call\u001b[38;5;241m.\u001b[39moutputs\u001b[38;5;241m.\u001b[39mkeys())\n\u001b[1;32m     27\u001b[0m         }\n",
      "\u001b[0;31mAttributeError\u001b[0m: 'Workflow' object has no attribute 'calls'"
     ]
    }
   ],
   "source": [
    "#Example run\n",
    "tasks, workflow = parse_wdl(wdl_path)\n",
    "\n",
    "if workflow:\n",
    "    print(\"Converted Workflow:\")\n",
    "    print(json.dumps(workflow, indent=4))\n",
    "else:\n",
    "    for i, task in enumerate(tasks):\n",
    "        print(f\"Converted Task {i}:\")\n",
    "        print(json.dumps(task, indent=4))"
   ]
  }
 ],
 "metadata": {
  "kernelspec": {
   "display_name": "Python 3",
   "language": "python",
   "name": "python3"
  },
  "language_info": {
   "codemirror_mode": {
    "name": "ipython",
    "version": 3
   },
   "file_extension": ".py",
   "mimetype": "text/x-python",
   "name": "python",
   "nbconvert_exporter": "python",
   "pygments_lexer": "ipython3",
   "version": "3.9.6"
  }
 },
 "nbformat": 4,
 "nbformat_minor": 2
}
